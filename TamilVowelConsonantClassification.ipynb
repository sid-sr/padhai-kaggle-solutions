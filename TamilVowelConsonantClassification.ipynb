{
  "nbformat": 4,
  "nbformat_minor": 0,
  "metadata": {
    "accelerator": "GPU",
    "colab": {
      "name": "TamilVowelConsonantClassification.ipynb",
      "provenance": [],
      "collapsed_sections": []
    },
    "kernelspec": {
      "name": "python3",
      "display_name": "Python 3"
    },
    "language_info": {
      "codemirror_mode": {
        "name": "ipython",
        "version": 3
      },
      "file_extension": ".py",
      "mimetype": "text/x-python",
      "name": "python",
      "nbconvert_exporter": "python",
      "pygments_lexer": "ipython3",
      "version": "3.7.4"
    }
  },
  "cells": [
    {
      "cell_type": "code",
      "metadata": {
        "colab_type": "code",
        "id": "PeozigfFQ850",
        "colab": {}
      },
      "source": [
        "import os\n",
        "from PIL import Image\n",
        "import matplotlib.pyplot as plt\n",
        "import torch\n",
        "import torchvision\n",
        "from torch.utils.data import DataLoader, Dataset, random_split\n",
        "import torchvision.transforms as transforms\n",
        "import torch\n",
        "import torch.nn as nn\n",
        "import torch.nn.functional as F\n",
        "import torch.optim as optim\n",
        "import torchvision\n",
        "import matplotlib.pyplot as plt\n",
        "from torchvision import datasets, models\n",
        "import torchvision.transforms as transforms\n",
        "import numpy as np\n",
        "import pandas as pd\n",
        "!pip install -U -q PyDrive\n",
        "from pydrive.auth import GoogleAuth\n",
        "from pydrive.drive import GoogleDrive\n",
        "from google.colab import auth\n",
        "from oauth2client.client import GoogleCredentials\n",
        "\n",
        "train_on_gpu = torch.cuda.is_available()"
      ],
      "execution_count": 0,
      "outputs": []
    },
    {
      "cell_type": "code",
      "metadata": {
        "id": "NKpA5RYVXmBe",
        "colab_type": "code",
        "colab": {}
      },
      "source": [
        "#For converting the dataset to torchvision dataset format\n",
        "class VowelConsonantDataset(Dataset):\n",
        "    def __init__(self, file_path,train=True,transform=None):\n",
        "        self.transform = transform\n",
        "        self.file_path=file_path\n",
        "        self.train=train\n",
        "        self.file_names=[files for files in os.listdir(self.file_path)]\n",
        "        self.len = len(self.file_names)\n",
        "        if self.train:\n",
        "            self.classes_mapping=self.get_classes()\n",
        "    def __len__(self):\n",
        "        return len(self.file_names)\n",
        "    \n",
        "    def sp(self, name):\n",
        "        if(name[0] != 't'):\n",
        "            return name.split('_')\n",
        "        else:\n",
        "            return name[15:23].split('_') \n",
        "        \n",
        "    def __getitem__(self, index):\n",
        "        file_name=self.file_names[index]\n",
        "        image_data=self.pil_loader(self.file_path+\"/\"+file_name)\n",
        "        if self.transform:\n",
        "            image_data = self.transform(image_data)\n",
        "        if self.train:\n",
        "            file_name_splitted=self.sp(file_name)\n",
        "            Y1 = self.classes_mapping[file_name_splitted[0]]\n",
        "            Y2 = self.classes_mapping[file_name_splitted[1]]\n",
        "            z1,z2=torch.zeros(10),torch.zeros(10)\n",
        "            z1[Y1-10],z2[Y2]=1,1\n",
        "            label=torch.stack([z1,z2])\n",
        "\n",
        "            return image_data, label\n",
        "\n",
        "        else:\n",
        "            return image_data, file_name\n",
        "          \n",
        "    def pil_loader(self,path):\n",
        "        with open(path, 'rb') as f:\n",
        "            img = Image.open(f)\n",
        "            return img.convert('RGB')\n",
        "    \n",
        "    def get_classes(self):\n",
        "        classes_mapping = {  'C0': 0,\n",
        "                             'C1': 1,\n",
        "                             'C2': 2,\n",
        "                             'C3': 3,\n",
        "                             'C4': 4,\n",
        "                             'C5': 5,\n",
        "                             'C6': 6,\n",
        "                             'C7': 7,\n",
        "                             'C8': 8,\n",
        "                             'C9': 9,\n",
        "                             'V0': 10,\n",
        "                             'V1': 11,\n",
        "                             'V2': 12,\n",
        "                             'V3': 13,\n",
        "                             'V4': 14,\n",
        "                             'V5': 15,\n",
        "                             'V6': 16,\n",
        "                             'V7': 17,\n",
        "                             'V8': 18,\n",
        "                             'V9': 19}\n",
        "        return classes_mapping\n",
        "       "
      ],
      "execution_count": 0,
      "outputs": []
    },
    {
      "cell_type": "code",
      "metadata": {
        "colab_type": "code",
        "id": "OBxs6NTL1RaO",
        "outputId": "c97c0808-94fd-4d67-a6cd-cc2d3193d17e",
        "colab": {
          "base_uri": "https://localhost:8080/",
          "height": 52
        }
      },
      "source": [
        "print(train_on_gpu)\n",
        "device = torch.device(\"cuda:0\")\n",
        "torch.cuda.set_device(device)\n",
        "print(device)"
      ],
      "execution_count": 0,
      "outputs": [
        {
          "output_type": "stream",
          "text": [
            "True\n",
            "cuda:0\n"
          ],
          "name": "stdout"
        }
      ]
    },
    {
      "cell_type": "code",
      "metadata": {
        "colab_type": "code",
        "id": "S-BX7SIgS_bU",
        "colab": {}
      },
      "source": [
        "transform = transforms.Compose([transforms.ToTensor()])"
      ],
      "execution_count": 0,
      "outputs": []
    },
    {
      "cell_type": "code",
      "metadata": {
        "colab_type": "code",
        "id": "-cy-kmDMtilr",
        "colab": {}
      },
      "source": [
        "class Params(object):\n",
        "    def __init__(self, batch_size, epochs, seed, log_interval):\n",
        "        self.batch_size = batch_size\n",
        "        self.epochs = epochs\n",
        "        self.seed = seed\n",
        "        self.log_interval = log_interval\n",
        "\n",
        "args = Params(512, 36, 0, 5)"
      ],
      "execution_count": 0,
      "outputs": []
    },
    {
      "cell_type": "code",
      "metadata": {
        "id": "vXCPZrZRTBXe",
        "colab_type": "code",
        "colab": {}
      },
      "source": [
        "auth.authenticate_user()\n",
        "gauth = GoogleAuth()\n",
        "gauth.credentials = GoogleCredentials.get_application_default()\n",
        "drive = GoogleDrive(gauth)\n",
        "\n",
        "file_id = '1WuQU0Vm7TIOR_BVImTflTaLI7qFBc97Q'\n",
        "downloaded = drive.CreateFile({'id': file_id})\n",
        "downloaded.GetContentFile('train.zip')"
      ],
      "execution_count": 0,
      "outputs": []
    },
    {
      "cell_type": "code",
      "metadata": {
        "id": "g7zeR6-Hz2IY",
        "colab_type": "code",
        "colab": {}
      },
      "source": [
        "file_id = '1Q799Tmi6OQBJwNhpR7jCPt2-2oN4KDtH'\n",
        "downloaded = drive.CreateFile({'id': file_id})\n",
        "downloaded.GetContentFile('test.zip')"
      ],
      "execution_count": 0,
      "outputs": []
    },
    {
      "cell_type": "code",
      "metadata": {
        "id": "RC1dHsyYLwE1",
        "colab_type": "code",
        "colab": {}
      },
      "source": [
        "import zipfile\n",
        "with zipfile.ZipFile('train.zip', 'r') as zip_ref:\n",
        "    zip_ref.extractall('./train')\n",
        "with zipfile.ZipFile('test.zip', 'r') as zip_ref:\n",
        "    zip_ref.extractall('./test')"
      ],
      "execution_count": 0,
      "outputs": []
    },
    {
      "cell_type": "code",
      "metadata": {
        "colab_type": "code",
        "id": "X2cOje6hS_yA",
        "colab": {}
      },
      "source": [
        "full_data_unnorm = VowelConsonantDataset(\"./train/train\",train=True, transform=transform)"
      ],
      "execution_count": 0,
      "outputs": []
    },
    {
      "cell_type": "code",
      "metadata": {
        "id": "asRA6qQml-GL",
        "colab_type": "code",
        "outputId": "ee62d00c-d91a-4cd8-addf-fabaeb49e34f",
        "colab": {
          "base_uri": "https://localhost:8080/",
          "height": 269
        }
      },
      "source": [
        "import matplotlib.image as mpimg\n",
        "img=mpimg.imread('./train/train/V0_C1_13.png')\n",
        "imgplot = plt.imshow(img)\n",
        "plt.show()"
      ],
      "execution_count": 0,
      "outputs": [
        {
          "output_type": "display_data",
          "data": {
            "image/png": "[encoded data removed]",
            "text/plain": [
              "<Figure size 432x288 with 1 Axes>"
            ]
          },
          "metadata": {
            "tags": []
          }
        }
      ]
    },
    {
      "cell_type": "code",
      "metadata": {
        "colab_type": "code",
        "id": "Yz1vYqABbecj",
        "colab": {}
      },
      "source": [
        "norm_loader = torch.utils.data.DataLoader(full_data_unnorm, batch_size=10000, shuffle=False)"
      ],
      "execution_count": 0,
      "outputs": []
    },
    {
      "cell_type": "code",
      "metadata": {
        "colab_type": "code",
        "id": "1dqWMzeJgeeu",
        "colab": {}
      },
      "source": [
        "pop_mean0 = [0.48657233, 0.44117808, 0.40056407]\n",
        "pop_std0 = [0.27085045, 0.23359329, 0.22115886]\n",
        "pop_mean1 = [0.485, 0.456, 0.406]\n",
        "pop_std1 = [0.229, 0.224, 0.225]"
      ],
      "execution_count": 0,
      "outputs": []
    },
    {
      "cell_type": "code",
      "metadata": {
        "colab_type": "code",
        "id": "t0BxbO6kbecp",
        "colab": {}
      },
      "source": [
        "transformNorm = transforms.Compose([transforms.ToTensor()])"
      ],
      "execution_count": 0,
      "outputs": []
    },
    {
      "cell_type": "code",
      "metadata": {
        "id": "aJhdU1Qgs0sq",
        "colab_type": "code",
        "colab": {}
      },
      "source": [
        "transformNormAug = transforms.Compose([ #transforms.RandomResizedCrop(64),\n",
        "                                        #transforms.Grayscale(3),\n",
        "                                        #transforms.RandomVerticalFlip(p=0.5), \n",
        "                                        #transforms.RandomHorizontalFlip(),\n",
        "                                        transforms.ToTensor()\n",
        "                                        ])"
      ],
      "execution_count": 0,
      "outputs": []
    },
    {
      "cell_type": "code",
      "metadata": {
        "colab_type": "code",
        "id": "0cdOzr3xbecs",
        "colab": {}
      },
      "source": [
        "full_data = VowelConsonantDataset(\"./train/train\",train=True,transform=transformNormAug)"
      ],
      "execution_count": 0,
      "outputs": []
    },
    {
      "cell_type": "code",
      "metadata": {
        "id": "Ls73g8X5sv6p",
        "colab_type": "code",
        "colab": {}
      },
      "source": [
        "full_data_acc = VowelConsonantDataset(\"./train/train\",train=True,transform=transformNormAug)"
      ],
      "execution_count": 0,
      "outputs": []
    },
    {
      "cell_type": "code",
      "metadata": {
        "colab_type": "code",
        "id": "Tryian-Jbecw",
        "colab": {}
      },
      "source": [
        "train_size = int(0.9 * len(full_data))\n",
        "test_size = len(full_data) - train_size\n",
        "train_data, validation_data = random_split(full_data, [train_size, test_size])\n",
        "\n",
        "train_loader = torch.utils.data.DataLoader(train_data, batch_size=args.batch_size, shuffle=True)\n",
        "validation_loader = torch.utils.data.DataLoader(validation_data, batch_size=100, shuffle=True)"
      ],
      "execution_count": 0,
      "outputs": []
    },
    {
      "cell_type": "code",
      "metadata": {
        "id": "6SwaeGySd7UM",
        "colab_type": "code",
        "outputId": "347317ab-7f23-4d0f-8658-f90d7a2b5083",
        "colab": {
          "base_uri": "https://localhost:8080/",
          "height": 52
        }
      },
      "source": [
        "print(\"Train Size: \" + str(train_size) + \"\\nTest Size: \" + str(test_size))"
      ],
      "execution_count": 0,
      "outputs": [
        {
          "output_type": "stream",
          "text": [
            "Train Size: 9000\n",
            "Test Size: 1000\n"
          ],
          "name": "stdout"
        }
      ]
    },
    {
      "cell_type": "code",
      "metadata": {
        "colab_type": "code",
        "id": "Uzv8q9j63A_L",
        "colab": {}
      },
      "source": [
        "# Temporarily halting test output.. don't run this.\n",
        "\n",
        "test_data = VowelConsonantDataset(\"./test/test/\",train=False,transform=transformNorm)\n",
        "test_loader = torch.utils.data.DataLoader(test_data, batch_size=1, shuffle=False)"
      ],
      "execution_count": 0,
      "outputs": []
    },
    {
      "cell_type": "code",
      "metadata": {
        "colab_type": "code",
        "id": "l0HVEsRCBvjb",
        "colab": {}
      },
      "source": [
        "class ModelC(nn.Module):\n",
        "    def __init__(self, nH = 32): \n",
        "        super(ModelC, self).__init__()\n",
        "        self.classifier_cnn = nn.Sequential(\n",
        "            nn.Conv2d(3, 64, 5),            # (N, 3, 64, 64) -> (N, 16, 62, 62)\n",
        "            nn.LeakyReLU(),\n",
        "            nn.Conv2d(64, 64, 5, padding=2),# (N, 16, 60, 60) -> (N, 32, 60, 60)\n",
        "            nn.BatchNorm2d(64),\n",
        "            nn.LeakyReLU(),\n",
        "            nn.MaxPool2d(2, stride=2),\n",
        "            nn.Conv2d(64, 64, 5),           # (N, 32, 30, 30) -> (N, 32, 26, 26)\n",
        "            nn.BatchNorm2d(64),\n",
        "            nn.LeakyReLU(),\n",
        "            nn.Conv2d(64, 64, 3),    \n",
        "            nn.BatchNorm2d(64),             # (N, 32, 26, 26) -> (N, 32, 24, 24)\n",
        "            nn.LeakyReLU(),\n",
        "            nn.Conv2d(64, 128, 3),\n",
        "            nn.BatchNorm2d(128),            # (N, 32, 24, 24) -> (N, 64, 22, 22)\n",
        "            nn.LeakyReLU(),\n",
        "            nn.MaxPool2d(2, stride=2),      # (N, 64, 22, 22) -> (N, 64, 11, 11)\n",
        "            nn.Conv2d(128, 128, 3),         # (N, 64, 11, 11) -> (N, 64, 9, 9)\n",
        "            nn.BatchNorm2d(128),               \n",
        "            nn.LeakyReLU(),\n",
        "            nn.Conv2d(128, 128, 3),         # (N, 64, 9, 9) -> (N, 64, 7, 7)\n",
        "            nn.LeakyReLU()\n",
        "        ).to(device)\n",
        "        self.classifier_fc_C = nn.Sequential(\n",
        "            nn.Linear(128*7*7, 512, bias=True),\n",
        "            nn.BatchNorm1d(512),\n",
        "            nn.Tanh(),\n",
        "            nn.Linear(512, 256, bias=True),\n",
        "            nn.BatchNorm1d(256),\n",
        "            nn.Tanh(),\n",
        "            nn.Linear(256,128, bias=True),\n",
        "            nn.Tanh(),\n",
        "            nn.Dropout(0.5),\n",
        "            nn.Linear(128,64, bias=True),\n",
        "            nn.BatchNorm1d(64),\n",
        "            nn.Tanh(),\n",
        "            nn.Linear(64, 10, bias=True)\n",
        "        ).to(device)\n",
        "        self.classifier_fc_V = nn.Sequential(\n",
        "            nn.Linear(128*7*7, 512, bias=True),\n",
        "            nn.BatchNorm1d(512),\n",
        "            nn.Tanh(),\n",
        "            nn.Linear(512, 256, bias=True),\n",
        "            nn.BatchNorm1d(256),\n",
        "            nn.Tanh(),\n",
        "            nn.Linear(256,128, bias=True),\n",
        "            nn.Tanh(),\n",
        "            nn.Dropout(0.5),\n",
        "            nn.Linear(128,64, bias=True),\n",
        "            nn.BatchNorm1d(64),\n",
        "            nn.Tanh(),\n",
        "            nn.Linear(64, 10, bias=True)\n",
        "        ).to(device)\n",
        "        self.weight_init_conv(self.classifier_cnn)\n",
        "        self.weight_init_fc(self.classifier_fc_V)\n",
        "        self.weight_init_fc(self.classifier_fc_C)\n",
        "    def weight_init_fc(self, m):\n",
        "        if type(m) == nn.Linear:\n",
        "            torch.nn.init.xavier_uniform(m.weight)\n",
        "            m.bias.data.fill_(0.01)\n",
        "    def weight_init_conv(self, m):\n",
        "        if type(m) == nn.Conv2d:\n",
        "            torch.nn.init.xavier_uniform(m.weight)\n",
        "            m.bias.data.fill_(0.01)\n",
        "    def forward(self, x):\n",
        "        x = self.classifier_cnn(x)\n",
        "        x = x.view(x.size(0), -1)\n",
        "        y1 = self.classifier_fc_C(x)\n",
        "        y2 = self.classifier_fc_V(x)\n",
        "        return y1, y2"
      ],
      "execution_count": 0,
      "outputs": []
    },
    {
      "cell_type": "code",
      "metadata": {
        "colab_type": "code",
        "id": "JDxHnDSNbec9",
        "colab": {}
      },
      "source": [
        "def train(epoch):\n",
        "    acc = 0\n",
        "    acct = 0\n",
        "    lossT, lossV = 0, 0\n",
        "    exp_lr_scheduler.step()\n",
        "    modelC.train()\n",
        "    lossV = 0\n",
        "    for batch_id, data in enumerate(train_loader):\n",
        "        inputs, labels = data\n",
        "        inputs = inputs.to(device)\n",
        "        labels = labels.to(device)\n",
        "        \n",
        "        optC.zero_grad()\n",
        "        op = modelC(inputs)\n",
        "        outputsC, outputsV = op[:, :10], op[:, 10:]\n",
        "        loss = loss_fn(outputsC, labels[:, 0, :].argmax(dim=1)) + loss_fn(outputsV, labels[:, 1, :].argmax(dim=1))\n",
        "        loss.backward()\n",
        "        optC.step()\n",
        "        \n",
        "        if batch_id % args.log_interval == 0:\n",
        "            pos = epoch * len(train_loader) + batch_id\n",
        "            \n",
        "            print('Train Epoch: {} ({:.0f}%)\\tLoss: {:.3f}'.format(\n",
        "                epoch, 100. * batch_id / len(train_loader), loss.data.item()))\n",
        "    \n",
        "    modelC.eval()\n",
        "    \n",
        "    for i, data in enumerate(train_loader_acc):\n",
        "        inputs, labels = data\n",
        "        inputs = inputs.to(device)\n",
        "        labels = labels.to(device)\n",
        "        op = modelC(inputs)\n",
        "        outputsC, outputsV = op[:, :10], op[:, 10:]\n",
        "        lossT += (loss_fn(outputsC, labels[:, 0, :].argmax(dim=1)) + loss_fn(outputsV, labels[:, 1, :].argmax(dim=1))).data.item()\n",
        "    \n",
        "        acct += ((outputsC.argmax(dim=1) == labels[:,0,:].argmax(dim=1)).cpu().numpy() * (outputsV.argmax(dim=1) == labels[:,1,:].argmax(dim=1)).cpu().numpy()).sum()\n",
        "    \n",
        "    acct /= 10000\n",
        "    print(\"\\nTrain Loss on full data at epoch end: %.2f\"%(lossT/(i+1)))\n",
        "    print(\"Train Accuracy on full data: %.2f\"%(acct))\n",
        "\n",
        "    for i, data in enumerate(validation_loader):\n",
        "        inputs, labels = data\n",
        "        inputs = inputs.to(device)\n",
        "        labels = labels.to(device)\n",
        "        op = modelC(inputs)\n",
        "        outputsC, outputsV = op[:, :10], op[:, 10:]\n",
        "        lossV += (loss_fn(outputsC, labels[:, 0, :].argmax(dim=1)) + loss_fn(outputsV, labels[:, 1, :].argmax(dim=1))).data.item()    \n",
        "        acc += ((outputsC.argmax(dim=1) == labels[:,0,:].argmax(dim=1)).cpu().numpy() * (outputsV.argmax(dim=1) == labels[:,1,:].argmax(dim=1)).cpu().numpy()).sum()\n",
        "    \n",
        "    acc /= test_size\n",
        "    print(\"Validation Accuracy: %.2f\"%(acc))\n",
        "    print(\"Validation Loss: %.2f\\n\"%(lossV/(test_size/100)))\n",
        "   \n"
      ],
      "execution_count": 0,
      "outputs": []
    },
    {
      "cell_type": "code",
      "metadata": {
        "id": "uUSj3BCbMbWv",
        "colab_type": "code",
        "colab": {}
      },
      "source": [
        "def train1(epoch):\n",
        "    acc = 0\n",
        "    acct = 0\n",
        "    lossT, lossV = 0, 0\n",
        "    #exp_lr_scheduler.step()\n",
        "    modelC.train()\n",
        "    lossV = 0\n",
        "    for batch_id, data in enumerate(train_loader):\n",
        "        inputs, labels = data\n",
        "        inputs = inputs.to(device)\n",
        "        labels = labels.to(device)\n",
        "        \n",
        "        optC.zero_grad()\n",
        "        outputs = modelC(inputs)\n",
        "        outputC, outputV = outputs[:, 10], outputs[:, 10:]\n",
        "        loss = loss_fn(outputC, labels[:, 0, :].argmax(dim=1)) + loss_fn(outputsV, labels[:, 1, :].argmax(dim=1))\n",
        "        loss.backward()\n",
        "        optC.step()\n",
        "        \n",
        "        if batch_id % args.log_interval == 0:\n",
        "            pos = epoch * len(train_loader) + batch_id\n",
        "            \n",
        "            print('Train Epoch: {} ({:.0f}%)\\tLoss: {:.3f}'.format(\n",
        "                epoch, 100. * batch_id / len(train_loader), loss.data.item()))\n"
      ],
      "execution_count": 0,
      "outputs": []
    },
    {
      "cell_type": "code",
      "metadata": {
        "colab_type": "code",
        "id": "J_7IsbRYUVbO",
        "colab": {}
      },
      "source": [
        "def val_acc():\n",
        "    lossV, acc = 0, 0\n",
        "    modelC.eval()\n",
        "    for i, data in enumerate(validation_loader):\n",
        "        inputs, labels = data\n",
        "        inputs = inputs.to(device)\n",
        "        labels = labels.to(device)\n",
        "        op = modelC(inputs)\n",
        "        outputsC, outputsV = op[:, :10], op[:, 10:]\n",
        "        lossV += loss_fn(outputsC, labels[:, 0, :].argmax(dim=1)).data.item() + loss_fn(outputsV, labels[:, 1, :].argmax(dim=1)).data.item()    \n",
        "        acc += ((outputsC.argmax(dim=1) == labels[:,0,:].argmax(dim=1)).cpu().numpy().sum() * (outputsV.argmax(dim=1) == labels[:,1,:].argmax(dim=1)).cpu().numpy()).sum()\n",
        "\n",
        "    acc /= 1000\n",
        "    print(\"Val Accuracy: %.2f\"%(acc))\n",
        "    print(\"Val Loss: %.2f\\n\"%(lossV/(i+1)))\n",
        "    \n",
        "def train_acc():\n",
        "    lossV, acc = 0, 0\n",
        "    modelC.eval()\n",
        "    for i, data in enumerate(train_loader):\n",
        "        inputs, labels = data\n",
        "        inputs = inputs.to(device)\n",
        "        labels = labels.to(device)\n",
        "        op = modelC(inputs)\n",
        "        outputsC, outputsV = op[:, :10], op[:, 10:]\n",
        "        lossV += loss_fn(outputsC, labels[:, 0, :].argmax(dim=1)).data.item() + loss_fn(outputsV, labels[:, 1, :].argmax(dim=1)).data.item()    \n",
        "        acc += ((outputsC.argmax(dim=1) == labels[:,0,:].argmax(dim=1)).cpu().numpy() * (outputsV.argmax(dim=1) == labels[:,1,:].argmax(dim=1)).cpu().numpy()).sum()\n",
        "\n",
        "    acc /= 10000\n",
        "    print(\"Train Accuracy: %.2f\"%(acc))\n",
        "    print(\"Train Loss: %.2f\\n\"%(lossV/(i+1)))"
      ],
      "execution_count": 0,
      "outputs": []
    },
    {
      "cell_type": "code",
      "metadata": {
        "colab_type": "code",
        "id": "Nng1T7qHbedA",
        "colab": {}
      },
      "source": [
        "torch.cuda.empty_cache()"
      ],
      "execution_count": 0,
      "outputs": []
    },
    {
      "cell_type": "code",
      "metadata": {
        "id": "-x5dGf3Gn8yX",
        "colab_type": "code",
        "colab": {}
      },
      "source": [
        "train_loader_acc = torch.utils.data.DataLoader(full_data, batch_size=100, shuffle=False)"
      ],
      "execution_count": 0,
      "outputs": []
    },
    {
      "cell_type": "code",
      "metadata": {
        "id": "9jcdIIZt_O5c",
        "colab_type": "code",
        "colab": {}
      },
      "source": [
        "modelC = models.vgg19_bn()\n",
        "\n",
        "#num_ftrs = modelC.fc.in_features\n",
        "\n",
        "modelC.classifier = nn.Sequential(\n",
        "    nn.Linear(in_features=25088, out_features=2048, bias=True),\n",
        "    nn.BatchNorm1d(2048),\n",
        "    nn.ReLU(inplace=True),\n",
        "    nn.Dropout(p=0.5),\n",
        "    nn.Linear(in_features=2048, out_features=1024, bias=True),\n",
        "    nn.BatchNorm1d(1024),\n",
        "    nn.ReLU(inplace=True),\n",
        "    nn.Dropout(p=0.2),\n",
        "    nn.Linear(in_features=1024, out_features=10, bias=True)\n",
        "  )\n",
        "\n",
        "modelC = modelC.to(device)\n",
        "\n",
        "loss_fn = nn.CrossEntropyLoss()\n",
        "\n",
        "optC = optim.Adam(modelC.parameters(), lr=0.001)\n",
        "\n",
        "exp_lr_scheduler = optim.lr_scheduler.StepLR(optC, step_size=7, gamma=0.5)\n",
        "\n",
        "for epoch in range(1,25):\n",
        "    train(epoch)"
      ],
      "execution_count": 0,
      "outputs": []
    },
    {
      "cell_type": "code",
      "metadata": {
        "colab_type": "code",
        "id": "59rquhbcyeDi",
        "colab": {}
      },
      "source": [
        "acct = 0\n",
        "lossT= 0\n",
        "modelC.eval()\n",
        "for i, data in enumerate(train_loader_acc):\n",
        "    inputs, labels = data\n",
        "    inputs = inputs.to(device)\n",
        "    labels = labels.to(device)\n",
        "    outputC = modelC(inputs)\n",
        "    lossT += (loss_fn(outputC, labels[:, 0, :].argmax(dim=1))).data.item()# + loss_fn(outputsV, labels[:, 1, :].argmax(dim=1))).data.item()\n",
        "    acct += (outputC.argmax(dim=1) == labels[:,0,:].argmax(dim=1)).cpu().numpy().sum()# * (outputsV.argmax(dim=1) == labels[:,1,:].argmax(dim=1)).cpu().numpy()).sum()\n",
        "\n",
        "acct /= 10000\n",
        "print(\"\\nTrain Loss on full data: %.2f\"%(lossT/(i+1)))\n",
        "print(\"Train Accuracy on full data: %.2f\"%(acct))"
      ],
      "execution_count": 0,
      "outputs": []
    },
    {
      "cell_type": "markdown",
      "metadata": {
        "id": "ybs4wjKmbjHD",
        "colab_type": "text"
      },
      "source": [
        "2 submission cells based on which output to use.."
      ]
    },
    {
      "cell_type": "code",
      "metadata": {
        "id": "gEK_giwx5Ml-",
        "colab_type": "code",
        "colab": {}
      },
      "source": [
        "submission = {}\n",
        "submission['ImageId'] = []\n",
        "submission['Class'] = []\n",
        "s=\"\"\n",
        "modelC.eval()\n",
        "\n",
        "for i, data in enumerate(test_loader):\n",
        "    inputs, labels = data\n",
        "    inputs = inputs.to(device)\n",
        "    op = modelC(inputs)\n",
        "    s = \"V\" + str(op[:, :10].argmax(dim=1).data.item()) + \"_C\" + str(op[:, 10:].argmax(dim=1).data.item())\n",
        "    submission['ImageId'].append(labels[0])\n",
        "    submission['Class'].append(s)"
      ],
      "execution_count": 0,
      "outputs": []
    },
    {
      "cell_type": "code",
      "metadata": {
        "id": "lZRUanhZylTc",
        "colab_type": "code",
        "colab": {}
      },
      "source": [
        "submission = {}\n",
        "\n",
        "for i, data in enumerate(test_loader):\n",
        "    inputs, labels = data\n",
        "    inputs = inputs.to(device)\n",
        "    op = model(inputs)\n",
        "    s = \"V\" + str(op[:, :10]) + \"_C\" + op[:, 10:]\n",
        "    submission['ImageId'].append(labels)\n",
        "    submission['Class'].append(s)"
      ],
      "execution_count": 0,
      "outputs": []
    },
    {
      "cell_type": "code",
      "metadata": {
        "id": "7I_KI24q0wOI",
        "colab_type": "code",
        "colab": {}
      },
      "source": [
        "submission = pd.DataFrame(submission)\n",
        "submission = submission[['ImageId', 'Class']]\n",
        "submission = submission.sort_values(['ImageId'])\n",
        "submission.to_csv(\"submission.csv\", index=False)"
      ],
      "execution_count": 0,
      "outputs": []
    }
  ]
}